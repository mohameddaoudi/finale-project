{
 "cells": [
  {
   "cell_type": "markdown",
   "metadata": {},
   "source": [
    "Find the Best Location to Open an Ice Cream Shop in Boston Area\n",
    "Coursera Capstone Project"
   ]
  },
  {
   "cell_type": "markdown",
   "metadata": {},
   "source": [
    "## Introduction\n",
    "\n",
    "This report can help those who are planning to start a new business such as an ice-cream shop in a metropolitan city and need to find the best location for their shop."
   ]
  },
  {
   "cell_type": "markdown",
   "metadata": {},
   "source": [
    "## Background\n",
    "\n",
    "\n",
    "Selecting the right location for a business is one of the first and very important decisions in running a business. Starting a new business in a metropolitan city such as Boston can be challenging. Boston has 23 neighborhoods with various places that attract tourists and people to visit. Neighborhoods of Boston are different in terms of different factors that can directly affect the success chance of business. It is important to evaluate different neighborhoods based on the factors that are important for running a successful business such as the number of competitors and the potential demand in that neighborhood. Budget limitations in renting or buying a place play an important role in location decision making for small businesses."
   ]
  },
  {
   "cell_type": "markdown",
   "metadata": {},
   "source": [
    "## Business Problem\n",
    "\n",
    "\n",
    "In this project, I want to help my client to find the best neighborhood in Boston to open an Ice Cream shop. The challenge is to find a suitable neighborhood which is close enough to some amenities and venues, has fewer competitors, and of course is affordable to rent. An ice cream shop is good to be near a place where many people visit such as near a cinema, park, garden, playground, and theater. My client has a limited budget, and I need to consider it in my search. Also, a neighborhood that has fewer competitors is less risky for starting a new business. I have to come up with a formula to rank the neighborhoods when considering the amenities around it, rent price, and the number of competitors."
   ]
  },
  {
   "cell_type": "code",
   "execution_count": null,
   "metadata": {},
   "outputs": [],
   "source": []
  }
 ],
 "metadata": {
  "kernelspec": {
   "display_name": "Python",
   "language": "python",
   "name": "conda-env-python-py"
  },
  "language_info": {
   "codemirror_mode": {
    "name": "ipython",
    "version": 3
   },
   "file_extension": ".py",
   "mimetype": "text/x-python",
   "name": "python",
   "nbconvert_exporter": "python",
   "pygments_lexer": "ipython3",
   "version": "3.6.7"
  }
 },
 "nbformat": 4,
 "nbformat_minor": 4
}
