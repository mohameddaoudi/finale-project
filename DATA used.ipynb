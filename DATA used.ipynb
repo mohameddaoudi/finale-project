{
 "cells": [
  {
   "cell_type": "markdown",
   "metadata": {},
   "source": [
    "## Data\n",
    "\n",
    "I will extract the name of the 23 neighborhoods of Boston from the following link in Wikipedia:\n",
    "https://en.wikipedia.org/wiki/Neighborhoods_in_Boston\n",
    "\n",
    "Next, I will use Geocoder Python package with a while loop to get the latitude and the longitude coordinates of all the neighborhoods of Boston. After that, I will use Foursquare API to get the information about the cinema, park, garden, playground, and theater venues as well as the ice cream shops near each neighborhood. Average rent price for each neighborhood of Boston will also get extracted from the following link:\n",
    "https://www.zillow.com/research/data/"
   ]
  },
  {
   "cell_type": "code",
   "execution_count": null,
   "metadata": {},
   "outputs": [],
   "source": []
  }
 ],
 "metadata": {
  "kernelspec": {
   "display_name": "Python",
   "language": "python",
   "name": "conda-env-python-py"
  },
  "language_info": {
   "codemirror_mode": {
    "name": "ipython",
    "version": 3
   },
   "file_extension": ".py",
   "mimetype": "text/x-python",
   "name": "python",
   "nbconvert_exporter": "python",
   "pygments_lexer": "ipython3",
   "version": "3.6.7"
  }
 },
 "nbformat": 4,
 "nbformat_minor": 4
}
